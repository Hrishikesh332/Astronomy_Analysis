{
  "nbformat": 4,
  "nbformat_minor": 0,
  "metadata": {
    "colab": {
      "provenance": []
    },
    "kernelspec": {
      "name": "python3",
      "display_name": "Python 3"
    },
    "language_info": {
      "name": "python"
    }
  },
  "cells": [
    {
      "cell_type": "code",
      "execution_count": 1,
      "metadata": {
        "id": "pGE_95Hk2xAe"
      },
      "outputs": [],
      "source": [
        "import numpy as np\n",
        "import pandas as pd\n",
        "from astropy.io import fits\n",
        "import matplotlib.pyplot as plt"
      ]
    },
    {
      "cell_type": "code",
      "source": [
        "data=fits.open('/content/0_dss2-blue.fits')"
      ],
      "metadata": {
        "colab": {
          "base_uri": "https://localhost:8080/"
        },
        "id": "aXJXxDWL27Vf",
        "outputId": "1efc9475-28a5-425a-c2e6-b1a4e37b7567"
      },
      "execution_count": 2,
      "outputs": [
        {
          "output_type": "stream",
          "name": "stderr",
          "text": [
            "WARNING: File may have been truncated: actual file length (3145728) is smaller than the expected size (11327040) [astropy.io.fits.file]\n",
            "WARNING:astropy:File may have been truncated: actual file length (3145728) is smaller than the expected size (11327040)\n"
          ]
        }
      ]
    },
    {
      "cell_type": "code",
      "source": [
        "data"
      ],
      "metadata": {
        "colab": {
          "base_uri": "https://localhost:8080/"
        },
        "id": "El27xKHv3Rc1",
        "outputId": "8f244a19-5274-4da5-cb40-772cda34ff34"
      },
      "execution_count": 3,
      "outputs": [
        {
          "output_type": "execute_result",
          "data": {
            "text/plain": [
              "[<astropy.io.fits.hdu.image.PrimaryHDU object at 0x7f401b269e50>]"
            ]
          },
          "metadata": {},
          "execution_count": 3
        }
      ]
    },
    {
      "cell_type": "code",
      "source": [
        "data.info()"
      ],
      "metadata": {
        "colab": {
          "base_uri": "https://localhost:8080/"
        },
        "id": "zv4cERU63Shr",
        "outputId": "5c37b5c7-e17b-4916-8821-863ddafa846f"
      },
      "execution_count": 4,
      "outputs": [
        {
          "output_type": "stream",
          "name": "stdout",
          "text": [
            "Filename: /content/0_dss2-blue.fits\n",
            "No.    Name      Ver    Type      Cards   Dimensions   Format\n",
            "  0  PRIMARY       1 PrimaryHDU     129   (2376, 2381)   int16   \n"
          ]
        }
      ]
    },
    {
      "cell_type": "markdown",
      "source": [
        "# Primary Header:\n",
        "The Extension Header and Data is contained Primary Header."
      ],
      "metadata": {
        "id": "u25GjUGl5Evn"
      }
    },
    {
      "cell_type": "code",
      "source": [
        "data[0]"
      ],
      "metadata": {
        "colab": {
          "base_uri": "https://localhost:8080/"
        },
        "id": "NfAgm-dh3T4j",
        "outputId": "e1632f3b-ea0c-4090-b996-1d6f9a1086a9"
      },
      "execution_count": 5,
      "outputs": [
        {
          "output_type": "execute_result",
          "data": {
            "text/plain": [
              "<astropy.io.fits.hdu.image.PrimaryHDU at 0x7f401b269e50>"
            ]
          },
          "metadata": {},
          "execution_count": 5
        }
      ]
    },
    {
      "cell_type": "code",
      "source": [
        "data[0].header"
      ],
      "metadata": {
        "colab": {
          "base_uri": "https://localhost:8080/"
        },
        "id": "dxm69H3j3ib-",
        "outputId": "f0b03638-821c-4be2-8bec-885c52748b0d"
      },
      "execution_count": 6,
      "outputs": [
        {
          "output_type": "execute_result",
          "data": {
            "text/plain": [
              "SIMPLE  =                    T /FITS header                                     \n",
              "BITPIX  =                   16 /No.Bits per pixel                               \n",
              "NAXIS   =                    2 /No.dimensions                                   \n",
              "NAXIS1  =                 2376 /Length X axis                                   \n",
              "NAXIS2  =                 2381 /Length Y axis                                   \n",
              "EXTEND  =                    T /                                                \n",
              "DATE    = '31/12/22          ' /Date of FITS file creation                      \n",
              "ORIGIN  = 'CASB -- STScI     ' /Origin of FITS image                            \n",
              "PLTLABEL= 'SJ03057           ' /Observatory plate label                         \n",
              "PLATEID = 'A08U              ' /GSSS Plate ID                                   \n",
              "REGION  = 'XJ563             ' /GSSS Region Name                                \n",
              "DATE-OBS= '1990/01/29        ' /UT date of Observation                          \n",
              "UT      = '##################' /UT time of observation                          \n",
              "EPOCH   =  1.9900775146480E+03 /Epoch of plate                                  \n",
              "PLTRAH  =                    8 /Plate center RA                                 \n",
              "PLTRAM  =                   47 /                                                \n",
              "PLTRAS  =  5.5976126000001E+01 /                                                \n",
              "PLTDECSN= '+                 ' /Plate center Dec                                \n",
              "PLTDECD =                   19 /                                                \n",
              "PLTDECM =                   49 /                                                \n",
              "PLTDECS =  3.9783190000002E+01 /                                                \n",
              "EQUINOX =  2.0000000000000E+03 /Julian Reference frame equinox                  \n",
              "EXPOSURE=  5.5000000000000E+01 /Exposure time minutes                           \n",
              "BANDPASS=                   18 /GSSS Bandpass code                              \n",
              "PLTGRADE=                    0 /Plate grade                                     \n",
              "PLTSCALE=  6.7199996948240E+01 /Plate Scale arcsec per mm                       \n",
              "SITELAT = '+33:24:24.00      ' /Latitude of Observatory                         \n",
              "SITELONG= '-116:51:48.00     ' /Longitude of Observatory                        \n",
              "TELESCOP= 'Palomar 48-in Schm' /Telescope where plate taken                     \n",
              "CNPIX1  =                16814 /X corner  (pixels)                              \n",
              "CNPIX2  =                 9620 /Y corner                                        \n",
              "DATATYPE= 'INTEGER*2         ' /Type of Data                                    \n",
              "SCANIMG = 'XJ563_A08U_01_00.PIM' /Name of original scan                         \n",
              "SCANNUM =                    1 /Identifies scan of the plate                    \n",
              "DCHOPPED=                    F /Image repaired for chopping effects             \n",
              "DSHEARED=                    F /Image repaired for shearing effects             \n",
              "DSCNDNUM=                    0 /Identifies descendant of plate scan image       \n",
              "XPIXELSZ=  1.5029459953310E+01 /X pixel size microns                            \n",
              "YPIXELSZ=  1.5000000000000E+01 /Y pixel size microns                            \n",
              "PPO1    = -3.0694170000000E+06 /Orientation Coefficients                        \n",
              "PPO2    =  0.0000000000000E+00 /                                                \n",
              "PPO3    =  1.7750000000000E+05 /                                                \n",
              "PPO4    =  0.0000000000000E+00 /                                                \n",
              "PPO5    =  3.0694170000000E+06 /                                                \n",
              "PPO6    =  1.7750000000000E+05 /                                                \n",
              "AMDX1   =  6.7129481837090E+01 /Plate solution x coefficients                   \n",
              "AMDX2   =  8.2065416740397E-02 /                                                \n",
              "AMDX3   = -2.9233907047797E+02 /                                                \n",
              "AMDX4   = -2.4496450996352E-05 /                                                \n",
              "AMDX5   =  2.5013130391970E-05 /                                                \n",
              "AMDX6   = -5.3912316540557E-06 /                                                \n",
              "AMDX7   =  0.0000000000000E+00 /                                                \n",
              "AMDX8   =  2.3571814338688E-06 /                                                \n",
              "AMDX9   = -6.2131863803917E-09 /                                                \n",
              "AMDX10  =  2.4220812298877E-06 /                                                \n",
              "AMDX11  = -7.7895339662940E-08 /                                                \n",
              "AMDX12  =  0.0000000000000E+00 /                                                \n",
              "AMDX13  =  0.0000000000000E+00 /                                                \n",
              "AMDX14  =  0.0000000000000E+00 /                                                \n",
              "AMDX15  =  0.0000000000000E+00 /                                                \n",
              "AMDX16  =  0.0000000000000E+00 /                                                \n",
              "AMDX17  =  0.0000000000000E+00 /                                                \n",
              "AMDX18  =  0.0000000000000E+00 /                                                \n",
              "AMDX19  =  0.0000000000000E+00 /                                                \n",
              "AMDX20  =  0.0000000000000E+00 /                                                \n",
              "AMDY1   =  6.7131304090995E+01 /Plate solution y coefficients                   \n",
              "AMDY2   = -7.6016221323505E-02 /                                                \n",
              "AMDY3   =  3.1584739297731E+02 /                                                \n",
              "AMDY4   =  3.9176969507374E-05 /                                                \n",
              "AMDY5   = -2.2931524184161E-05 /                                                \n",
              "AMDY6   =  1.0250877314972E-05 /                                                \n",
              "AMDY7   =  0.0000000000000E+00 /                                                \n",
              "AMDY8   =  2.3122731062413E-06 /                                                \n",
              "AMDY9   = -4.4700969943866E-08 /                                                \n",
              "AMDY10  =  2.3081464454024E-06 /                                                \n",
              "AMDY11  = -4.1294009030775E-08 /                                                \n",
              "AMDY12  =  0.0000000000000E+00 /                                                \n",
              "AMDY13  =  0.0000000000000E+00 /                                                \n",
              "AMDY14  =  0.0000000000000E+00 /                                                \n",
              "AMDY15  =  0.0000000000000E+00 /                                                \n",
              "AMDY16  =  0.0000000000000E+00 /                                                \n",
              "AMDY17  =  0.0000000000000E+00 /                                                \n",
              "AMDY18  =  0.0000000000000E+00 /                                                \n",
              "AMDY19  =  0.0000000000000E+00 /                                                \n",
              "AMDY20  =  0.0000000000000E+00 /                                                \n",
              "NBFCPYRT=                    2 /Number of brief copyright statement lines       \n",
              "BFCPYRT1= 'Copyright (c) 1992-2000, Caltech and AURA; subject to all records in'\n",
              "BFCPYRT2= 'the header file.  ' /                                                \n",
              "NFLCPYRT=                   12 /Number of full copyright statement lines        \n",
              "FLCPYRT1= 'The compressed files of the \"Palomar Observatory - Space Telescope'  \n",
              "FLCPYRT2= 'Science Institute Digital Sky Survey\" of the northern sky, based on' \n",
              "FLCPYRT3= 'scans of the Second Palomar Sky Survey are copyright (c) 1993-2000'  \n",
              "FLCPYRT4= 'by the California Institute of Technology and are distributed herein'\n",
              "FLCPYRT5= 'by agreement.  All Rights Reserved.' /                               \n",
              "FLCPYRT6= '                  ' /                                                \n",
              "FLCPYRT7= 'All material not subject to the above copyright provision is' /      \n",
              "FLCPYRT8= 'copyright (c) 2000 by the Association of Universities for Research'  \n",
              "FLCPYRT9= 'in Astronomy, Inc.  All Rights Reserved.' /                          \n",
              "FLCPYRTA= '                  ' /                                                \n",
              "FLCPYRTB= 'Produced under Contract No. NAS5-2555 with the National Aeronautics' \n",
              "FLCPYRTC= 'and Space Administration.' /                                         \n",
              "DATAMAX =                27252 /Maximum data value                              \n",
              "DATAMIN =                   32 /Minimum data value                              \n",
              "OBJECT  = 'dss63000          ' /Object ID                                       \n",
              "OBJCTRA = '08 40 13.000      ' /Object Right Ascension (J2000)                  \n",
              "OBJCTDEC= '+19 37 15.60      ' /Object Declination (J2000)                      \n",
              "OBJCTX  =             18002.66 /Object X on plate (pixels)                      \n",
              "OBJCTY  =             10810.56 /Object Y on plate (pixels)                      \n",
              "CTYPE1  = 'RA---TAN'           /R.A. in tangent plane projection                \n",
              "CTYPE2  = 'DEC--TAN'           /DEC. in tangent plane projection                \n",
              "CRPIX1  =               1188.0 /Refpix of first axis                            \n",
              "CRPIX2  =               1190.5 /Refpix of second axis                           \n",
              "CRVAL1  =  1.3005451462496E+02 /RA at Ref pix in decimal degrees                \n",
              "CRVAL2  =  1.9620846202732E+01 /DEC at Ref pix in decimal degrees               \n",
              "CROTA1  =  5.8263214517414E-01 /Rotation angle of first axis (deg)              \n",
              "CROTA2  =  5.8263214517414E-01 /Rotation angle of second axis (deg)             \n",
              "        Warning: CROTA2 is inaccurate due to considerable skew                  \n",
              "SKEW    = '5.8663604948279E-01,  5.7862824086548E-01' / Measure of skew         \n",
              "CDELT1  = -2.8028626187823E-04 /RA pixel step (deg)                             \n",
              "CDELT2  =  2.8024623965940E-04 /DEC pixel step (deg)                            \n",
              "CD1_1   = -2.8027196892040E-04 /CD matrix                                       \n",
              "CD1_2   = -2.8693156092461E-06 /CD matrix                                       \n",
              "CD2_1   = -2.8305538601369E-06 /CD matrix                                       \n",
              "CD2_2   =  2.8023155045634E-04 /CD matrix                                       \n",
              "PC001001=  9.9994900585660E-01 /PC matrix                                       \n",
              "PC001002=  1.0237089716843E-02 /PC matrix                                       \n",
              "PC002001= -1.0100238503029E-02 /PC matrix                                       \n",
              "PC002002=  9.9994758465601E-01 /PC matrix                                       \n",
              "WVLEN   =                472.5 / Mean Wavelength of observation                 "
            ]
          },
          "metadata": {},
          "execution_count": 6
        }
      ]
    },
    {
      "cell_type": "markdown",
      "source": [
        "# **Primary Block**"
      ],
      "metadata": {
        "id": "hsYRZb_V4IfV"
      }
    },
    {
      "cell_type": "code",
      "source": [
        "df=data[0].data"
      ],
      "metadata": {
        "id": "MZ0REt_-30cf"
      },
      "execution_count": 7,
      "outputs": []
    },
    {
      "cell_type": "code",
      "source": [
        "type(df)"
      ],
      "metadata": {
        "colab": {
          "base_uri": "https://localhost:8080/"
        },
        "id": "NNvbiZIs3_xg",
        "outputId": "1e739dab-c8e6-4bca-d6d8-d5e1b1139bfc"
      },
      "execution_count": 8,
      "outputs": [
        {
          "output_type": "execute_result",
          "data": {
            "text/plain": [
              "numpy.ndarray"
            ]
          },
          "metadata": {},
          "execution_count": 8
        }
      ]
    },
    {
      "cell_type": "code",
      "source": [
        "df.shape"
      ],
      "metadata": {
        "colab": {
          "base_uri": "https://localhost:8080/"
        },
        "id": "aNWXGqZt4BxU",
        "outputId": "e1815fe9-a2eb-434c-af9d-c3e076ee3022"
      },
      "execution_count": 9,
      "outputs": [
        {
          "output_type": "execute_result",
          "data": {
            "text/plain": [
              "(2381, 2376)"
            ]
          },
          "metadata": {},
          "execution_count": 9
        }
      ]
    },
    {
      "cell_type": "code",
      "source": [
        "df.dtype.name"
      ],
      "metadata": {
        "colab": {
          "base_uri": "https://localhost:8080/",
          "height": 36
        },
        "id": "vmasi0p74EZn",
        "outputId": "be4cb8a1-9a5c-4815-e681-ff2751567cd1"
      },
      "execution_count": 10,
      "outputs": [
        {
          "output_type": "execute_result",
          "data": {
            "text/plain": [
              "'int16'"
            ],
            "application/vnd.google.colaboratory.intrinsic+json": {
              "type": "string"
            }
          },
          "metadata": {},
          "execution_count": 10
        }
      ]
    },
    {
      "cell_type": "code",
      "source": [
        "plt.imshow(df, cmap='gray')\n",
        "plt.colorbar()"
      ],
      "metadata": {
        "colab": {
          "base_uri": "https://localhost:8080/",
          "height": 287
        },
        "id": "PtFvbySe4SqR",
        "outputId": "8626bddd-1e80-44ca-e30d-2e59789026a4"
      },
      "execution_count": 12,
      "outputs": [
        {
          "output_type": "execute_result",
          "data": {
            "text/plain": [
              "<matplotlib.colorbar.Colorbar at 0x7f4016eea490>"
            ]
          },
          "metadata": {},
          "execution_count": 12
        },
        {
          "output_type": "display_data",
          "data": {
            "text/plain": [
              "<Figure size 432x288 with 2 Axes>"
            ],
            "image/png": "[encoded data removed]"
          },
          "metadata": {
            "needs_background": "light"
          }
        }
      ]
    },
    {
      "cell_type": "code",
      "source": [
        "histogram=plt.hist(df.flat, bins=500)"
      ],
      "metadata": {
        "colab": {
          "base_uri": "https://localhost:8080/",
          "height": 265
        },
        "id": "SbFJT8Sc4eoY",
        "outputId": "97732eda-0c1a-47d1-ffc6-5cebb2da929d"
      },
      "execution_count": 13,
      "outputs": [
        {
          "output_type": "display_data",
          "data": {
            "text/plain": [
              "<Figure size 432x288 with 1 Axes>"
            ],
            "image/png": "[encoded data removed]"
          },
          "metadata": {
            "needs_background": "light"
          }
        }
      ]
    },
    {
      "cell_type": "code",
      "source": [],
      "metadata": {
        "id": "nJN5KD1k4wap"
      },
      "execution_count": null,
      "outputs": []
    }
  ]
}